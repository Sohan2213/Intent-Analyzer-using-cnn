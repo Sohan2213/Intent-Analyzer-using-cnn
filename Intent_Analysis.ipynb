{
 "cells": [
  {
   "cell_type": "code",
   "execution_count": 1,
   "id": "4c93e687-7299-4be9-a04b-6210ef4a61d6",
   "metadata": {},
   "outputs": [
    {
     "name": "stderr",
     "output_type": "stream",
     "text": [
      "[nltk_data] Downloading package stopwords to\n",
      "[nltk_data]     C:\\Users\\mohanty\\AppData\\Roaming\\nltk_data...\n",
      "[nltk_data]   Package stopwords is already up-to-date!\n"
     ]
    }
   ],
   "source": [
    "import pandas as pd\n",
    "import tensorflow \n",
    "from tensorflow.keras.layers import *\n",
    "from tensorflow.keras.preprocessing.text import Tokenizer\n",
    "from tensorflow.keras.preprocessing.sequence import pad_sequences\n",
    "import matplotlib.pyplot as plt\n",
    "import nltk\n",
    "from nltk import WordNetLemmatizer\n",
    "from nltk.corpus import stopwords\n",
    "import spacy\n",
    "import re\n",
    "import sklearn\n",
    "from sklearn.model_selection import train_test_split\n",
    "import tqdm\n",
    "nltk.download('stopwords')\n",
    "STOPWORDS = set(stopwords.words('english'))\n",
    "from gensim.models import Word2Vec\n",
    "from tensorflow.keras import Sequential\n",
    "import numpy as np\n",
    "from tensorflow.keras.utils import to_categorical\n",
    "from sklearn.pipeline import make_pipeline\n",
    "from tensorflow.keras import datasets,models,layers\n",
    "from tensorflow.keras.layers import Conv1D, Concatenate, GlobalMaxPooling1D, GlobalAveragePooling1D, Dense, Embedding, Input,BatchNormalization\n",
    "from tensorflow.keras.models import Model"
   ]
  },
  {
   "cell_type": "code",
   "execution_count": 2,
   "id": "ccc88224-0a40-49c9-8bd2-c8e6beab3c2e",
   "metadata": {},
   "outputs": [],
   "source": [
    "data = pd.read_csv('training.1600000.processed.noemoticon.csv',encoding = 'latin',header=None)"
   ]
  },
  {
   "cell_type": "code",
   "execution_count": 3,
   "id": "3061db05-715a-413e-89e3-142fcb9aeef3",
   "metadata": {},
   "outputs": [
    {
     "data": {
      "text/html": [
       "<div>\n",
       "<style scoped>\n",
       "    .dataframe tbody tr th:only-of-type {\n",
       "        vertical-align: middle;\n",
       "    }\n",
       "\n",
       "    .dataframe tbody tr th {\n",
       "        vertical-align: top;\n",
       "    }\n",
       "\n",
       "    .dataframe thead th {\n",
       "        text-align: right;\n",
       "    }\n",
       "</style>\n",
       "<table border=\"1\" class=\"dataframe\">\n",
       "  <thead>\n",
       "    <tr style=\"text-align: right;\">\n",
       "      <th></th>\n",
       "      <th>0</th>\n",
       "      <th>1</th>\n",
       "      <th>2</th>\n",
       "      <th>3</th>\n",
       "      <th>4</th>\n",
       "      <th>5</th>\n",
       "    </tr>\n",
       "  </thead>\n",
       "  <tbody>\n",
       "    <tr>\n",
       "      <th>0</th>\n",
       "      <td>0</td>\n",
       "      <td>1467810369</td>\n",
       "      <td>Mon Apr 06 22:19:45 PDT 2009</td>\n",
       "      <td>NO_QUERY</td>\n",
       "      <td>_TheSpecialOne_</td>\n",
       "      <td>@switchfoot http://twitpic.com/2y1zl - Awww, t...</td>\n",
       "    </tr>\n",
       "    <tr>\n",
       "      <th>1</th>\n",
       "      <td>0</td>\n",
       "      <td>1467810672</td>\n",
       "      <td>Mon Apr 06 22:19:49 PDT 2009</td>\n",
       "      <td>NO_QUERY</td>\n",
       "      <td>scotthamilton</td>\n",
       "      <td>is upset that he can't update his Facebook by ...</td>\n",
       "    </tr>\n",
       "    <tr>\n",
       "      <th>2</th>\n",
       "      <td>0</td>\n",
       "      <td>1467810917</td>\n",
       "      <td>Mon Apr 06 22:19:53 PDT 2009</td>\n",
       "      <td>NO_QUERY</td>\n",
       "      <td>mattycus</td>\n",
       "      <td>@Kenichan I dived many times for the ball. Man...</td>\n",
       "    </tr>\n",
       "    <tr>\n",
       "      <th>3</th>\n",
       "      <td>0</td>\n",
       "      <td>1467811184</td>\n",
       "      <td>Mon Apr 06 22:19:57 PDT 2009</td>\n",
       "      <td>NO_QUERY</td>\n",
       "      <td>ElleCTF</td>\n",
       "      <td>my whole body feels itchy and like its on fire</td>\n",
       "    </tr>\n",
       "    <tr>\n",
       "      <th>4</th>\n",
       "      <td>0</td>\n",
       "      <td>1467811193</td>\n",
       "      <td>Mon Apr 06 22:19:57 PDT 2009</td>\n",
       "      <td>NO_QUERY</td>\n",
       "      <td>Karoli</td>\n",
       "      <td>@nationwideclass no, it's not behaving at all....</td>\n",
       "    </tr>\n",
       "  </tbody>\n",
       "</table>\n",
       "</div>"
      ],
      "text/plain": [
       "   0           1                             2         3                4  \\\n",
       "0  0  1467810369  Mon Apr 06 22:19:45 PDT 2009  NO_QUERY  _TheSpecialOne_   \n",
       "1  0  1467810672  Mon Apr 06 22:19:49 PDT 2009  NO_QUERY    scotthamilton   \n",
       "2  0  1467810917  Mon Apr 06 22:19:53 PDT 2009  NO_QUERY         mattycus   \n",
       "3  0  1467811184  Mon Apr 06 22:19:57 PDT 2009  NO_QUERY          ElleCTF   \n",
       "4  0  1467811193  Mon Apr 06 22:19:57 PDT 2009  NO_QUERY           Karoli   \n",
       "\n",
       "                                                   5  \n",
       "0  @switchfoot http://twitpic.com/2y1zl - Awww, t...  \n",
       "1  is upset that he can't update his Facebook by ...  \n",
       "2  @Kenichan I dived many times for the ball. Man...  \n",
       "3    my whole body feels itchy and like its on fire   \n",
       "4  @nationwideclass no, it's not behaving at all....  "
      ]
     },
     "execution_count": 3,
     "metadata": {},
     "output_type": "execute_result"
    }
   ],
   "source": [
    "data.head()"
   ]
  },
  {
   "cell_type": "code",
   "execution_count": 4,
   "id": "0ee1cf51-953c-40f8-b736-599dd127655b",
   "metadata": {},
   "outputs": [],
   "source": [
    "data = data[[5, 0]]\n",
    "data.columns=['tweet', 'sentiment']"
   ]
  },
  {
   "cell_type": "code",
   "execution_count": 5,
   "id": "9ba6c933-8293-4806-b7b0-a5bb703ad3e9",
   "metadata": {},
   "outputs": [],
   "source": [
    "data['sentiment'] = data['sentiment'].replace(4,1)"
   ]
  },
  {
   "cell_type": "code",
   "execution_count": 6,
   "id": "6c97ebe2-e4bd-4d14-8f2a-b7826bb7e799",
   "metadata": {},
   "outputs": [
    {
     "data": {
      "image/png": "[encoded data removed]",
      "text/plain": [
       "<Figure size 800x600 with 1 Axes>"
      ]
     },
     "metadata": {},
     "output_type": "display_data"
    }
   ],
   "source": [
    "plt.rcParams['font.family'] = 'DejaVu Sans'\n",
    "sentiment_counts = data['sentiment'].value_counts()\n",
    "sentiment_labels = {'Negative': 0, 'Positive': 1}\n",
    "plt.figure(figsize=(8, 6))\n",
    "plt.barh(list(sentiment_labels.keys()), list(sentiment_counts.values), color=['red', 'green', 'blue'])\n",
    "plt.xlabel(\"Frequency\")\n",
    "plt.yticks(list(sentiment_labels.values()), list(sentiment_labels.keys()))\n",
    "plt.title(\"Sentiment\")\n",
    "plt.grid(axis='x', linestyle='--', alpha=0.6)\n",
    "\n",
    "plt.show()"
   ]
  },
  {
   "cell_type": "code",
   "execution_count": 7,
   "id": "eae254d0-f1d4-4306-b31d-8d5207741f41",
   "metadata": {},
   "outputs": [
    {
     "data": {
      "image/png": "[encoded data removed]",
      "text/plain": [
       "<Figure size 800x600 with 1 Axes>"
      ]
     },
     "metadata": {},
     "output_type": "display_data"
    }
   ],
   "source": [
    "plt.rcParams['font.family'] = 'DejaVu Sans'\n",
    "sentiment_counts = data['sentiment'].value_counts()\n",
    "sentiment_labels = {'Negative': 0, 'Positive': 1}\n",
    "plt.figure(figsize=(8, 6))\n",
    "plt.barh(list(sentiment_labels.keys()), list(sentiment_counts.values), color=['red', 'green', 'blue'])\n",
    "plt.xlabel(\"Frequency\")\n",
    "plt.yticks(list(sentiment_labels.values()), list(sentiment_labels.keys()))\n",
    "plt.title(\"Sentiment\")\n",
    "plt.grid(axis='x', linestyle='--', alpha=0.6)\n",
    "\n",
    "plt.show()\n"
   ]
  },
  {
   "cell_type": "code",
   "execution_count": 8,
   "id": "2a72d759-4160-4b15-8f2a-8e57833d620f",
   "metadata": {},
   "outputs": [],
   "source": [
    "stop_words = set(stopwords.words('english'))\n",
    "def preprocess(text):\n",
    "    text = re.sub(r\"https?://\\S+|www\\.\\S+\",\" \",text)\n",
    "    text = re.sub(r\"<.*?>|&([a-z0-9]+|#[0-9]{1,6}|#x[0-9a-f]{1,6});\",\" \",text)\n",
    "    text = re.sub(r\"[^\\w\\s]\", \" \", text)\n",
    "    text = re.sub(r\"\\w*\\d\\w*\", \" \", text)\n",
    "    text = re.sub(r\"[0-9]+\", \" \", text)\n",
    "    text = re.sub(r\"\\s+\", \" \", text).strip()\n",
    "        \n",
    "    text = text.lower()\n",
    "    \n",
    "    tokens = []\n",
    "    for token in text.split():\n",
    "        if token not in stop_words and len(token) > 3:\n",
    "            tokens.append(token)\n",
    "    return \" \".join(tokens)"
   ]
  },
  {
   "cell_type": "code",
   "execution_count": 9,
   "id": "5a1c7430-3d42-43cd-b203-110f793813e0",
   "metadata": {},
   "outputs": [],
   "source": [
    "data.loc[:, 'tweet'] = data['tweet'].apply(preprocess)"
   ]
  },
  {
   "cell_type": "code",
   "execution_count": 10,
   "id": "b0a0fb43-1649-47eb-aca1-e85e169a05a3",
   "metadata": {},
   "outputs": [
    {
     "name": "stdout",
     "output_type": "stream",
     "text": [
      "Train Data size: 1280000 1280000\n",
      "Test Data size 320000 320000\n"
     ]
    }
   ],
   "source": [
    "X = data['tweet']\n",
    "y = data['sentiment']\n",
    "X_train, X_test, y_train, y_test = train_test_split(X, y, test_size=0.2, random_state=7)\n",
    "\n",
    "print(\"Train Data size:\", len(X_train), len(y_train))\n",
    "print(\"Test Data size\", len(X_test), len(y_test))"
   ]
  },
  {
   "cell_type": "code",
   "execution_count": 11,
   "id": "462c98a3-1afe-4c2e-bd2f-458ef6ccc6c8",
   "metadata": {},
   "outputs": [],
   "source": [
    "tokenizer = Tokenizer()\n",
    "tokenizer.fit_on_texts(X_train)\n",
    "X_train = tokenizer.texts_to_sequences(X_train)\n",
    "X_test = tokenizer.texts_to_sequences(X_test)"
   ]
  },
  {
   "cell_type": "code",
   "execution_count": 12,
   "id": "9b3fffb9-dbf2-44fb-9463-db054463e5f7",
   "metadata": {},
   "outputs": [
    {
     "name": "stdout",
     "output_type": "stream",
     "text": [
      "After padding: (1280000, 27)\n",
      "After padding:(320000, 27)\n"
     ]
    }
   ],
   "source": [
    "max_length = max([len(seq) for seq in X_train])\n",
    "X_train = pad_sequences(X_train, maxlen=max_length)\n",
    "X_test = pad_sequences(X_test, maxlen=max_length)\n",
    "print(f\"After padding: {X_train.shape}\")\n",
    "print(f\"After padding:{X_test.shape}\")"
   ]
  },
  {
   "cell_type": "code",
   "execution_count": 13,
   "id": "246d3fab-a18d-4410-b7b3-a955d03f14fb",
   "metadata": {},
   "outputs": [],
   "source": [
    "batch_size=512\n",
    "vocab_size = len(tokenizer.word_index)+1\n",
    "embedding_dim = 100"
   ]
  },
  {
   "cell_type": "code",
   "execution_count": 14,
   "id": "76a4ff6c-1f0b-4921-8f28-73451f6e127e",
   "metadata": {},
   "outputs": [],
   "source": [
    "CNN=models.Sequential([\n",
    "    layers.Embedding(vocab_size, embedding_dim, input_length=max_length),\n",
    "    layers.Dropout(0.5),\n",
    "    \n",
    "    layers.Conv1D(filters=256, kernel_size=3, activation='relu'), \n",
    "    layers.Conv1D(filters=256, kernel_size=3, activation='relu'),\n",
    "    layers.GlobalMaxPooling1D(),\n",
    "    \n",
    "    layers.Flatten(),\n",
    "    layers.Dense(128,activation=\"relu\"),\n",
    "    layers.Dropout(0.5),\n",
    "    \n",
    "    layers.Dense(1, activation='sigmoid')\n",
    "])\n",
    "\n",
    "CNN.compile(loss = 'binary_crossentropy',\n",
    "                optimizer = 'adam',\n",
    "                metrics = ['accuracy'])"
   ]
  },
  {
   "cell_type": "code",
   "execution_count": 15,
   "id": "1c51a732-4fb6-4dfa-bf55-f50c40801490",
   "metadata": {},
   "outputs": [
    {
     "name": "stdout",
     "output_type": "stream",
     "text": [
      "Epoch 1/5\n",
      "2500/2500 [==============================] - 3256s 1s/step - loss: 0.5043 - accuracy: 0.7517\n",
      "Epoch 2/5\n",
      "2500/2500 [==============================] - 3251s 1s/step - loss: 0.4156 - accuracy: 0.8123\n",
      "Epoch 3/5\n",
      "2500/2500 [==============================] - 3261s 1s/step - loss: 0.3480 - accuracy: 0.8453\n",
      "Epoch 4/5\n",
      "2500/2500 [==============================] - 3260s 1s/step - loss: 0.3106 - accuracy: 0.8610\n",
      "Epoch 5/5\n",
      "2500/2500 [==============================] - 3219s 1s/step - loss: 0.2893 - accuracy: 0.8707\n"
     ]
    }
   ],
   "source": [
    "history=CNN.fit(X_train, y_train, epochs=5,batch_size=batch_size)"
   ]
  },
  {
   "cell_type": "code",
   "execution_count": 16,
   "id": "445cd095-f5f0-4b5a-a657-beefb7abedde",
   "metadata": {},
   "outputs": [
    {
     "name": "stdout",
     "output_type": "stream",
     "text": [
      "10000/10000 [==============================] - 113s 11ms/step - loss: 0.8239 - accuracy: 0.7469\n"
     ]
    },
    {
     "data": {
      "text/plain": [
       "[0.8239432573318481, 0.7468906044960022]"
      ]
     },
     "execution_count": 16,
     "metadata": {},
     "output_type": "execute_result"
    }
   ],
   "source": [
    "CNN.evaluate(X_test, y_test)"
   ]
  },
  {
   "cell_type": "code",
   "execution_count": 17,
   "id": "ec76c158-8eb8-4b7c-8669-a25f20a68552",
   "metadata": {},
   "outputs": [
    {
     "name": "stdout",
     "output_type": "stream",
     "text": [
      "Model: \"sequential\"\n",
      "_________________________________________________________________\n",
      " Layer (type)                Output Shape              Param #   \n",
      "=================================================================\n",
      " embedding (Embedding)       (None, 27, 100)           45102700  \n",
      "                                                                 \n",
      " dropout (Dropout)           (None, 27, 100)           0         \n",
      "                                                                 \n",
      " conv1d (Conv1D)             (None, 25, 256)           77056     \n",
      "                                                                 \n",
      " conv1d_1 (Conv1D)           (None, 23, 256)           196864    \n",
      "                                                                 \n",
      " global_max_pooling1d (Glob  (None, 256)               0         \n",
      " alMaxPooling1D)                                                 \n",
      "                                                                 \n",
      " flatten (Flatten)           (None, 256)               0         \n",
      "                                                                 \n",
      " dense (Dense)               (None, 128)               32896     \n",
      "                                                                 \n",
      " dropout_1 (Dropout)         (None, 128)               0         \n",
      "                                                                 \n",
      " dense_1 (Dense)             (None, 1)                 129       \n",
      "                                                                 \n",
      "=================================================================\n",
      "Total params: 45409645 (173.22 MB)\n",
      "Trainable params: 45409645 (173.22 MB)\n",
      "Non-trainable params: 0 (0.00 Byte)\n",
      "_________________________________________________________________\n"
     ]
    }
   ],
   "source": [
    "CNN.summary()"
   ]
  },
  {
   "cell_type": "code",
   "execution_count": 18,
   "id": "2003b775-3623-4f30-82a3-84aa813dc314",
   "metadata": {},
   "outputs": [
    {
     "name": "stdout",
     "output_type": "stream",
     "text": [
      "10000/10000 [==============================] - 107s 11ms/step\n"
     ]
    },
    {
     "data": {
      "image/png": "[encoded data removed]",
      "text/plain": [
       "<Figure size 1000x700 with 2 Axes>"
      ]
     },
     "metadata": {},
     "output_type": "display_data"
    }
   ],
   "source": [
    "import matplotlib.pyplot as plt\n",
    "import seaborn as sn\n",
    "import tensorflow as tf\n",
    "y_pred = CNN.predict(X_test)\n",
    "y_pred_rounded = np.round(y_pred)\n",
    "cm = tf.math.confusion_matrix(labels=y_test,predictions=y_pred_rounded)\n",
    "plt.figure(figsize=(10, 7))\n",
    "sn.heatmap(cm, annot=True, fmt='d', cmap='Blues')\n",
    "plt.title('Confusion Matrix')\n",
    "plt.xlabel('Predicted')\n",
    "plt.ylabel('Truth')\n",
    "plt.show()"
   ]
  },
  {
   "cell_type": "code",
   "execution_count": 19,
   "id": "6b277076-3c30-4375-91c9-707f043e5dcb",
   "metadata": {},
   "outputs": [
    {
     "name": "stdout",
     "output_type": "stream",
     "text": [
      "              precision    recall  f1-score   support\n",
      "\n",
      "    Negative       0.75      0.75      0.75    160542\n",
      "    Positive       0.74      0.75      0.75    159458\n",
      "\n",
      "    accuracy                           0.75    320000\n",
      "   macro avg       0.75      0.75      0.75    320000\n",
      "weighted avg       0.75      0.75      0.75    320000\n",
      "\n"
     ]
    }
   ],
   "source": [
    "from sklearn.metrics import classification_report\n",
    "print(classification_report(y_test, y_pred_rounded, target_names=['Negative', 'Positive']))"
   ]
  },
  {
   "cell_type": "code",
   "execution_count": 20,
   "id": "7c2323b3-5f23-4e85-8d25-cc1a80180e25",
   "metadata": {},
   "outputs": [],
   "source": [
    "from tensorflow.keras.layers import Input, Embedding, Conv1D, MaxPooling1D, Flatten, Dense\n",
    "from tensorflow.keras.models import Model\n",
    "embedding_layer = Embedding(vocab_size, 100, input_length=max_length, trainable=False)\n",
    "sequence_input = Input(shape=(max_length,), dtype='int32')\n",
    "embedding_sequences = embedding_layer(sequence_input)\n",
    "\n",
    "x = Conv1D(64, 3, activation='relu', padding='same')(embedding_sequences)\n",
    "x = Conv1D(64, 3, activation='relu', padding='same')(x)\n",
    "x= MaxPooling1D(pool_size=3, strides=1, padding='same')(x)\n",
    "\n",
    "x = Conv1D(128, 3, activation='relu', padding='same')(x)\n",
    "x = Conv1D(128, 3, activation='relu', padding='same')(x)\n",
    "x = MaxPooling1D(pool_size=3, strides=1, padding='same')(x)\n",
    "\n",
    "x = Conv1D(256, 3, activation='relu', padding='same')(x)\n",
    "x = Conv1D(256, 3, activation='relu', padding='same')(x)\n",
    "x = Conv1D(256, 3, activation='relu', padding='same')(x)\n",
    "x = MaxPooling1D(pool_size=3, strides=1, padding='same')(x)\n",
    "\n",
    "x = Conv1D(512, 3, activation='relu', padding='same')(x)\n",
    "x = Conv1D(512, 3, activation='relu', padding='same')(x)\n",
    "x = Conv1D(512, 3, activation='relu', padding='same')(x)\n",
    "x = MaxPooling1D(pool_size=3, strides=1, padding='same')(x)\n",
    "\n",
    "x = Conv1D(512, 3, activation='relu', padding='same')(x)\n",
    "x = Conv1D(512, 3, activation='relu', padding='same')(x)\n",
    "x = Conv1D(512, 3, activation='relu', padding='same')(x)\n",
    "\n",
    "x = Flatten()(x)\n",
    "x = Dense(512, activation='relu')(x)\n",
    "x = Dense(512, activation='relu')(x)\n",
    "\n",
    "outputs = Dense(1, activation='sigmoid')(x)\n",
    "\n",
    "model_vgg16 = Model(sequence_input, outputs)\n",
    "model_vgg16.compile(optimizer='adam', loss='binary_crossentropy', metrics=['accuracy'])"
   ]
  },
  {
   "cell_type": "code",
   "execution_count": 21,
   "id": "0eed7c71-55bf-408f-a766-23991cf88a73",
   "metadata": {},
   "outputs": [
    {
     "name": "stdout",
     "output_type": "stream",
     "text": [
      "10000/10000 [==============================] - 1624s 162ms/step - loss: 0.6932 - accuracy: 0.4996\n",
      "Test Loss: 0.6932199597358704\n",
      "Test Accuracy: 0.49962812662124634\n"
     ]
    }
   ],
   "source": [
    "loss, accuracy = model_vgg16.evaluate(X_test, y_test)\n",
    "print(\"Test Loss:\", loss)\n",
    "print(\"Test Accuracy:\", accuracy)"
   ]
  },
  {
   "cell_type": "code",
   "execution_count": 22,
   "id": "67bb8327-74ed-4e0c-9208-475fb33250d7",
   "metadata": {},
   "outputs": [
    {
     "name": "stdout",
     "output_type": "stream",
     "text": [
      "Model: \"model\"\n",
      "_________________________________________________________________\n",
      " Layer (type)                Output Shape              Param #   \n",
      "=================================================================\n",
      " input_1 (InputLayer)        [(None, 27)]              0         \n",
      "                                                                 \n",
      " embedding_1 (Embedding)     (None, 27, 100)           45102700  \n",
      "                                                                 \n",
      " conv1d_2 (Conv1D)           (None, 27, 64)            19264     \n",
      "                                                                 \n",
      " conv1d_3 (Conv1D)           (None, 27, 64)            12352     \n",
      "                                                                 \n",
      " max_pooling1d (MaxPooling1  (None, 27, 64)            0         \n",
      " D)                                                              \n",
      "                                                                 \n",
      " conv1d_4 (Conv1D)           (None, 27, 128)           24704     \n",
      "                                                                 \n",
      " conv1d_5 (Conv1D)           (None, 27, 128)           49280     \n",
      "                                                                 \n",
      " max_pooling1d_1 (MaxPoolin  (None, 27, 128)           0         \n",
      " g1D)                                                            \n",
      "                                                                 \n",
      " conv1d_6 (Conv1D)           (None, 27, 256)           98560     \n",
      "                                                                 \n",
      " conv1d_7 (Conv1D)           (None, 27, 256)           196864    \n",
      "                                                                 \n",
      " conv1d_8 (Conv1D)           (None, 27, 256)           196864    \n",
      "                                                                 \n",
      " max_pooling1d_2 (MaxPoolin  (None, 27, 256)           0         \n",
      " g1D)                                                            \n",
      "                                                                 \n",
      " conv1d_9 (Conv1D)           (None, 27, 512)           393728    \n",
      "                                                                 \n",
      " conv1d_10 (Conv1D)          (None, 27, 512)           786944    \n",
      "                                                                 \n",
      " conv1d_11 (Conv1D)          (None, 27, 512)           786944    \n",
      "                                                                 \n",
      " max_pooling1d_3 (MaxPoolin  (None, 27, 512)           0         \n",
      " g1D)                                                            \n",
      "                                                                 \n",
      " conv1d_12 (Conv1D)          (None, 27, 512)           786944    \n",
      "                                                                 \n",
      " conv1d_13 (Conv1D)          (None, 27, 512)           786944    \n",
      "                                                                 \n",
      " conv1d_14 (Conv1D)          (None, 27, 512)           786944    \n",
      "                                                                 \n",
      " flatten_1 (Flatten)         (None, 13824)             0         \n",
      "                                                                 \n",
      " dense_2 (Dense)             (None, 512)               7078400   \n",
      "                                                                 \n",
      " dense_3 (Dense)             (None, 512)               262656    \n",
      "                                                                 \n",
      " dense_4 (Dense)             (None, 1)                 513       \n",
      "                                                                 \n",
      "=================================================================\n",
      "Total params: 57370605 (218.85 MB)\n",
      "Trainable params: 12267905 (46.80 MB)\n",
      "Non-trainable params: 45102700 (172.05 MB)\n",
      "_________________________________________________________________\n"
     ]
    }
   ],
   "source": [
    "model_vgg16.summary()"
   ]
  },
  {
   "cell_type": "code",
   "execution_count": 23,
   "id": "cecb816f-3b2a-4c98-b00a-79abf403d494",
   "metadata": {},
   "outputs": [],
   "source": [
    "sequence_input = Input(shape=(max_length,), dtype='int32')\n",
    "embedding_sequences = embedding_layer(sequence_input)\n",
    "\n",
    "l1 = Conv1D(64, 1, activation='relu', padding='same')(embedding_sequences)\n",
    "l2 = Conv1D(64, 3, activation='relu', padding='same')(embedding_sequences)\n",
    "l3 = Conv1D(64, 5, activation='relu', padding='same')(embedding_sequences)\n",
    "l4 = Conv1D(64, 7, activation='relu', padding='same')(embedding_sequences)\n",
    "l5 = Conv1D(64, 9, activation='relu', padding='same')(embedding_sequences)\n",
    "l6 = MaxPooling1D(pool_size=3, strides=1, padding='same')(embedding_sequences)\n",
    "l6 = Conv1D(64, 1, activation='relu', padding='same')(l6)\n",
    "\n",
    "l = Concatenate(axis=-1)([l1, l2, l3, l4, l5, l6])\n",
    "l = Flatten()(l)\n",
    "l = Dense(512, activation='relu')(l)\n",
    "l = Dense(512, activation='relu')(l)\n",
    "\n",
    "outputs = Dense(1, activation='sigmoid')(l)\n",
    "\n",
    "model_inception = Model(sequence_input, outputs)\n",
    "\n",
    "model_inception.compile(optimizer='adam', loss='binary_crossentropy', metrics=['accuracy'])"
   ]
  },
  {
   "cell_type": "code",
   "execution_count": 24,
   "id": "78576e4f-8689-4922-8598-a54b5bb534e4",
   "metadata": {},
   "outputs": [
    {
     "name": "stdout",
     "output_type": "stream",
     "text": [
      "20000/20000 [==============================] - 3699s 185ms/step - loss: 0.5393 - accuracy: 0.7213\n"
     ]
    }
   ],
   "source": [
    "history = model_inception.fit(X_train, y_train, batch_size=64, epochs=1)"
   ]
  },
  {
   "cell_type": "code",
   "execution_count": 26,
   "id": "5cbbaefa-3693-4554-876b-df9f6be84e48",
   "metadata": {},
   "outputs": [
    {
     "name": "stdout",
     "output_type": "stream",
     "text": [
      "10000/10000 [==============================] - 236s 24ms/step - loss: 0.5174 - accuracy: 0.7398\n",
      "Test Loss: 0.5173718929290771\n",
      "Test Accuracy: 0.7398218512535095\n"
     ]
    }
   ],
   "source": [
    "loss, accuracy = model_inception.evaluate(X_test, y_test)\n",
    "print(\"Test Loss:\", loss)\n",
    "print(\"Test Accuracy:\", accuracy)"
   ]
  },
  {
   "cell_type": "code",
   "execution_count": 27,
   "id": "822b027d-c489-4349-b309-6896772ccabc",
   "metadata": {},
   "outputs": [
    {
     "name": "stdout",
     "output_type": "stream",
     "text": [
      "Model: \"model_1\"\n",
      "__________________________________________________________________________________________________\n",
      " Layer (type)                Output Shape                 Param #   Connected to                  \n",
      "==================================================================================================\n",
      " input_2 (InputLayer)        [(None, 27)]                 0         []                            \n",
      "                                                                                                  \n",
      " embedding_1 (Embedding)     (None, 27, 100)              4510270   ['input_2[0][0]']             \n",
      "                                                          0                                       \n",
      "                                                                                                  \n",
      " max_pooling1d_4 (MaxPoolin  (None, 27, 100)              0         ['embedding_1[1][0]']         \n",
      " g1D)                                                                                             \n",
      "                                                                                                  \n",
      " conv1d_15 (Conv1D)          (None, 27, 64)               6464      ['embedding_1[1][0]']         \n",
      "                                                                                                  \n",
      " conv1d_16 (Conv1D)          (None, 27, 64)               19264     ['embedding_1[1][0]']         \n",
      "                                                                                                  \n",
      " conv1d_17 (Conv1D)          (None, 27, 64)               32064     ['embedding_1[1][0]']         \n",
      "                                                                                                  \n",
      " conv1d_18 (Conv1D)          (None, 27, 64)               44864     ['embedding_1[1][0]']         \n",
      "                                                                                                  \n",
      " conv1d_19 (Conv1D)          (None, 27, 64)               57664     ['embedding_1[1][0]']         \n",
      "                                                                                                  \n",
      " conv1d_20 (Conv1D)          (None, 27, 64)               6464      ['max_pooling1d_4[0][0]']     \n",
      "                                                                                                  \n",
      " concatenate (Concatenate)   (None, 27, 384)              0         ['conv1d_15[0][0]',           \n",
      "                                                                     'conv1d_16[0][0]',           \n",
      "                                                                     'conv1d_17[0][0]',           \n",
      "                                                                     'conv1d_18[0][0]',           \n",
      "                                                                     'conv1d_19[0][0]',           \n",
      "                                                                     'conv1d_20[0][0]']           \n",
      "                                                                                                  \n",
      " flatten_2 (Flatten)         (None, 10368)                0         ['concatenate[0][0]']         \n",
      "                                                                                                  \n",
      " dense_5 (Dense)             (None, 512)                  5308928   ['flatten_2[0][0]']           \n",
      "                                                                                                  \n",
      " dense_6 (Dense)             (None, 512)                  262656    ['dense_5[0][0]']             \n",
      "                                                                                                  \n",
      " dense_7 (Dense)             (None, 1)                    513       ['dense_6[0][0]']             \n",
      "                                                                                                  \n",
      "==================================================================================================\n",
      "Total params: 50841581 (193.95 MB)\n",
      "Trainable params: 5738881 (21.89 MB)\n",
      "Non-trainable params: 45102700 (172.05 MB)\n",
      "__________________________________________________________________________________________________\n"
     ]
    }
   ],
   "source": [
    "model_inception.summary()"
   ]
  },
  {
   "cell_type": "code",
   "execution_count": 28,
   "id": "6758b611-a49e-41cd-83e3-dd570fd9bd56",
   "metadata": {},
   "outputs": [
    {
     "name": "stdout",
     "output_type": "stream",
     "text": [
      "10000/10000 [==============================] - 213s 21ms/step\n"
     ]
    },
    {
     "data": {
      "image/png": "[encoded data removed]",
      "text/plain": [
       "<Figure size 1000x700 with 2 Axes>"
      ]
     },
     "metadata": {},
     "output_type": "display_data"
    }
   ],
   "source": [
    "y_pred = model_inception.predict(X_test)\n",
    "y_pred_rounded = np.round(y_pred)\n",
    "cm = tf.math.confusion_matrix(labels=y_test,predictions=y_pred_rounded)\n",
    "plt.figure(figsize=(10, 7))\n",
    "sn.heatmap(cm, annot=True, fmt='d', cmap='Blues')\n",
    "plt.title('Confusion Matrix')\n",
    "plt.xlabel('Predicted')\n",
    "plt.ylabel('Truth')\n",
    "plt.show()"
   ]
  },
  {
   "cell_type": "code",
   "execution_count": 29,
   "id": "5087a257-12ab-47ff-802e-12c183befc34",
   "metadata": {},
   "outputs": [
    {
     "name": "stdout",
     "output_type": "stream",
     "text": [
      "              precision    recall  f1-score   support\n",
      "\n",
      "    Negative       0.75      0.72      0.74    160542\n",
      "    Positive       0.73      0.76      0.74    159458\n",
      "\n",
      "    accuracy                           0.74    320000\n",
      "   macro avg       0.74      0.74      0.74    320000\n",
      "weighted avg       0.74      0.74      0.74    320000\n",
      "\n"
     ]
    }
   ],
   "source": [
    "from sklearn.metrics import classification_report\n",
    "print(classification_report(y_test, y_pred_rounded, target_names=['Negative', 'Positive']))"
   ]
  },
  {
   "cell_type": "code",
   "execution_count": 30,
   "id": "48ccc281-e151-44a6-9261-6e6e730718e5",
   "metadata": {},
   "outputs": [
    {
     "name": "stdout",
     "output_type": "stream",
     "text": [
      "1/1 [==============================] - 0s 266ms/step\n",
      "1/1 [==============================] - 0s 47ms/step\n",
      "1/1 [==============================] - 0s 57ms/step\n",
      "1/1 [==============================] - 0s 47ms/step\n",
      "1/1 [==============================] - 0s 62ms/step\n",
      "1/1 [==============================] - 0s 47ms/step\n",
      "1/1 [==============================] - 0s 63ms/step\n",
      "1/1 [==============================] - 0s 55ms/step\n",
      "1/1 [==============================] - 0s 47ms/step\n",
      "1/1 [==============================] - 0s 47ms/step\n",
      "Sample 1:\n",
      "Tweet: talkin henry wonderful stories world\n",
      "Predicted Sentiment: Positive\n",
      "True Sentiment: Positive\n",
      "\n",
      "Sample 2:\n",
      "Tweet: going trendingggg\n",
      "Predicted Sentiment: Negative\n",
      "True Sentiment: Negative\n",
      "\n",
      "Sample 3:\n",
      "Tweet: jonasbrothers love guys best\n",
      "Predicted Sentiment: Positive\n",
      "True Sentiment: Positive\n",
      "\n",
      "Sample 4:\n",
      "Tweet: psychobunny well\n",
      "Predicted Sentiment: Positive\n",
      "True Sentiment: Positive\n",
      "\n",
      "Sample 5:\n",
      "Tweet: joshgroban josh reassuring planning flying asthma smog really\n",
      "Predicted Sentiment: Negative\n",
      "True Sentiment: Negative\n",
      "\n",
      "Sample 6:\n",
      "Tweet: manox_net yeah happy innit still driver\n",
      "Predicted Sentiment: Negative\n",
      "True Sentiment: Negative\n",
      "\n",
      "Sample 7:\n",
      "Tweet: wait flip biology exam dead easy still addicted crush sums well\n",
      "Predicted Sentiment: Positive\n",
      "True Sentiment: Positive\n",
      "\n",
      "Sample 8:\n",
      "Tweet: bella_butterfly woohoo thanks mandi\n",
      "Predicted Sentiment: Positive\n",
      "True Sentiment: Positive\n",
      "\n",
      "Sample 9:\n",
      "Tweet: kikirowr want hippogryph pets\n",
      "Predicted Sentiment: Positive\n",
      "True Sentiment: Positive\n",
      "\n",
      "Sample 10:\n",
      "Tweet: petewentz video catch loooooove song\n",
      "Predicted Sentiment: Positive\n",
      "True Sentiment: Positive\n",
      "\n"
     ]
    }
   ],
   "source": [
    "def predict_sentiments(model, tokenizer, data, num_samples=10):\n",
    "    results = []\n",
    "    for _ in range(num_samples):\n",
    "        index = np.random.randint(0, len(data))\n",
    "        tweet = data.iloc[index]['tweet']\n",
    "        y_true = data.iloc[index]['sentiment']\n",
    "        cleaned_tweet = preprocess(tweet)\n",
    "        sequence = tokenizer.texts_to_sequences([cleaned_tweet])\n",
    "        padded_sequence = pad_sequences(sequence, maxlen=max_length)\n",
    "        prediction = model.predict(padded_sequence)[0][0]\n",
    "        sentiment = \"Positive\" if prediction >= 0.5 else \"Negative\"\n",
    "        results.append((tweet, sentiment, y_true))\n",
    "\n",
    "    return results\n",
    "\n",
    "results = predict_sentiments(CNN, tokenizer, data, num_samples=10)\n",
    "for i, (tweet, sentiment, y_true) in enumerate(results, 1):\n",
    "    print(f\"Sample {i}:\")\n",
    "    print(\"Tweet:\", tweet)\n",
    "    print(\"Predicted Sentiment:\", sentiment)\n",
    "    print(\"True Sentiment:\", \"Positive\" if y_true == 1 else \"Negative\")\n",
    "    print()"
   ]
  },
  {
   "cell_type": "code",
   "execution_count": null,
   "id": "9485092c-d151-487f-8be3-8c5e494ab9d6",
   "metadata": {},
   "outputs": [],
   "source": []
  }
 ],
 "metadata": {
  "kernelspec": {
   "display_name": "Python 3 (ipykernel)",
   "language": "python",
   "name": "python3"
  },
  "language_info": {
   "codemirror_mode": {
    "name": "ipython",
    "version": 3
   },
   "file_extension": ".py",
   "mimetype": "text/x-python",
   "name": "python",
   "nbconvert_exporter": "python",
   "pygments_lexer": "ipython3",
   "version": "3.10.6"
  }
 },
 "nbformat": 4,
 "nbformat_minor": 5
}
